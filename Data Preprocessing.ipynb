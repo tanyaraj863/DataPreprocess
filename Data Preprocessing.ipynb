{
 "cells": [
  {
   "cell_type": "code",
   "execution_count": 1,
   "id": "3b227177-0c6b-40ef-81ed-5dcdb92e62d2",
   "metadata": {},
   "outputs": [],
   "source": [
    "import pandas as pd\n",
    "import scipy\n",
    "import numpy as np\n",
    "from sklearn.preprocessing import MinMaxScaler\n",
    "import seaborn as sns\n",
    "import matplotlib.pyplot as plt\n"
   ]
  },
  {
   "cell_type": "code",
   "execution_count": 186,
   "id": "1e6c9a1d-1db8-4493-a03a-8a52d2da4e3c",
   "metadata": {},
   "outputs": [
    {
     "name": "stdout",
     "output_type": "stream",
     "text": [
      "     Pregnant  Glucose  Diastolic_BP  Skin_Fold  Serum_Insulin   BMI  \\\n",
      "0           6    148.0          72.0       35.0            NaN  33.6   \n",
      "1           1     85.0          66.0       29.0            NaN  26.6   \n",
      "2           8    183.0          64.0        NaN            NaN  23.3   \n",
      "3           1     89.0          66.0       23.0           94.0  28.1   \n",
      "4           0    137.0          40.0       35.0          168.0  43.1   \n",
      "..        ...      ...           ...        ...            ...   ...   \n",
      "763        10    101.0          76.0       48.0          180.0  32.9   \n",
      "764         2    122.0          70.0       27.0            NaN  36.8   \n",
      "765         5    121.0          72.0       23.0          112.0  26.2   \n",
      "766         1    126.0          60.0        NaN            NaN  30.1   \n",
      "767         1     93.0          70.0       31.0            NaN  30.4   \n",
      "\n",
      "     Diabetes_Pedigree  Age  Class  \n",
      "0                0.627   50      1  \n",
      "1                0.351   31      0  \n",
      "2                0.672   32      1  \n",
      "3                0.167   21      0  \n",
      "4                2.288   33      1  \n",
      "..                 ...  ...    ...  \n",
      "763              0.171   63      0  \n",
      "764              0.340   27      0  \n",
      "765              0.245   30      0  \n",
      "766              0.349   47      1  \n",
      "767              0.315   23      0  \n",
      "\n",
      "[768 rows x 9 columns]\n"
     ]
    },
    {
     "data": {
      "text/html": [
       "<div>\n",
       "<style scoped>\n",
       "    .dataframe tbody tr th:only-of-type {\n",
       "        vertical-align: middle;\n",
       "    }\n",
       "\n",
       "    .dataframe tbody tr th {\n",
       "        vertical-align: top;\n",
       "    }\n",
       "\n",
       "    .dataframe thead th {\n",
       "        text-align: right;\n",
       "    }\n",
       "</style>\n",
       "<table border=\"1\" class=\"dataframe\">\n",
       "  <thead>\n",
       "    <tr style=\"text-align: right;\">\n",
       "      <th></th>\n",
       "      <th>Pregnant</th>\n",
       "      <th>Glucose</th>\n",
       "      <th>Diastolic_BP</th>\n",
       "      <th>Skin_Fold</th>\n",
       "      <th>Serum_Insulin</th>\n",
       "      <th>BMI</th>\n",
       "      <th>Diabetes_Pedigree</th>\n",
       "      <th>Age</th>\n",
       "      <th>Class</th>\n",
       "    </tr>\n",
       "  </thead>\n",
       "  <tbody>\n",
       "    <tr>\n",
       "      <th>0</th>\n",
       "      <td>6</td>\n",
       "      <td>148.0</td>\n",
       "      <td>72.0</td>\n",
       "      <td>35.0</td>\n",
       "      <td>NaN</td>\n",
       "      <td>33.6</td>\n",
       "      <td>0.627</td>\n",
       "      <td>50</td>\n",
       "      <td>1</td>\n",
       "    </tr>\n",
       "    <tr>\n",
       "      <th>1</th>\n",
       "      <td>1</td>\n",
       "      <td>85.0</td>\n",
       "      <td>66.0</td>\n",
       "      <td>29.0</td>\n",
       "      <td>NaN</td>\n",
       "      <td>26.6</td>\n",
       "      <td>0.351</td>\n",
       "      <td>31</td>\n",
       "      <td>0</td>\n",
       "    </tr>\n",
       "    <tr>\n",
       "      <th>2</th>\n",
       "      <td>8</td>\n",
       "      <td>183.0</td>\n",
       "      <td>64.0</td>\n",
       "      <td>NaN</td>\n",
       "      <td>NaN</td>\n",
       "      <td>23.3</td>\n",
       "      <td>0.672</td>\n",
       "      <td>32</td>\n",
       "      <td>1</td>\n",
       "    </tr>\n",
       "    <tr>\n",
       "      <th>3</th>\n",
       "      <td>1</td>\n",
       "      <td>89.0</td>\n",
       "      <td>66.0</td>\n",
       "      <td>23.0</td>\n",
       "      <td>94.0</td>\n",
       "      <td>28.1</td>\n",
       "      <td>0.167</td>\n",
       "      <td>21</td>\n",
       "      <td>0</td>\n",
       "    </tr>\n",
       "    <tr>\n",
       "      <th>4</th>\n",
       "      <td>0</td>\n",
       "      <td>137.0</td>\n",
       "      <td>40.0</td>\n",
       "      <td>35.0</td>\n",
       "      <td>168.0</td>\n",
       "      <td>43.1</td>\n",
       "      <td>2.288</td>\n",
       "      <td>33</td>\n",
       "      <td>1</td>\n",
       "    </tr>\n",
       "  </tbody>\n",
       "</table>\n",
       "</div>"
      ],
      "text/plain": [
       "   Pregnant  Glucose  Diastolic_BP  Skin_Fold  Serum_Insulin   BMI  \\\n",
       "0         6    148.0          72.0       35.0            NaN  33.6   \n",
       "1         1     85.0          66.0       29.0            NaN  26.6   \n",
       "2         8    183.0          64.0        NaN            NaN  23.3   \n",
       "3         1     89.0          66.0       23.0           94.0  28.1   \n",
       "4         0    137.0          40.0       35.0          168.0  43.1   \n",
       "\n",
       "   Diabetes_Pedigree  Age  Class  \n",
       "0              0.627   50      1  \n",
       "1              0.351   31      0  \n",
       "2              0.672   32      1  \n",
       "3              0.167   21      0  \n",
       "4              2.288   33      1  "
      ]
     },
     "execution_count": 186,
     "metadata": {},
     "output_type": "execute_result"
    }
   ],
   "source": [
    "df = pd.read_csv('Diabetes Missing Data.csv')\n",
    "dataframe  = pd.DataFrame(df)\n",
    "print(df)\n",
    "df.head()"
   ]
  },
  {
   "cell_type": "code",
   "execution_count": 190,
   "id": "a110013d-d2db-483c-a2c3-f59a4c13bf8e",
   "metadata": {},
   "outputs": [],
   "source": [
    "# --------------------------------------------  HANDLING MISSING VALUES -----------------------------------------"
   ]
  },
  {
   "cell_type": "code",
   "execution_count": 192,
   "id": "b189a7e6-d7bc-4bcc-b6d8-59d3af0116f3",
   "metadata": {},
   "outputs": [
    {
     "data": {
      "text/plain": [
       "652"
      ]
     },
     "execution_count": 192,
     "metadata": {},
     "output_type": "execute_result"
    }
   ],
   "source": [
    "null = df.isnull().sum().sum()\n",
    "null"
   ]
  },
  {
   "cell_type": "code",
   "execution_count": 196,
   "id": "6de82cc7-48db-4cfd-b903-b1f535269631",
   "metadata": {},
   "outputs": [
    {
     "name": "stdout",
     "output_type": "stream",
     "text": [
      "0      155.548223\n",
      "1      155.548223\n",
      "2      155.548223\n",
      "3       94.000000\n",
      "4      168.000000\n",
      "          ...    \n",
      "763    180.000000\n",
      "764    155.548223\n",
      "765    112.000000\n",
      "766    155.548223\n",
      "767    155.548223\n",
      "Name: Serum_Insulin, Length: 768, dtype: float64 0      0.627\n",
      "1      0.351\n",
      "2      0.672\n",
      "3      0.167\n",
      "4      2.288\n",
      "       ...  \n",
      "763    0.171\n",
      "764    0.340\n",
      "765    0.245\n",
      "766    0.349\n",
      "767    0.315\n",
      "Name: Diabetes_Pedigree, Length: 768, dtype: float64 0      33.6\n",
      "1      26.6\n",
      "2      23.3\n",
      "3      28.1\n",
      "4      43.1\n",
      "       ... \n",
      "763    32.9\n",
      "764    36.8\n",
      "765    26.2\n",
      "766    30.1\n",
      "767    30.4\n",
      "Name: BMI, Length: 768, dtype: float64 0      35.00000\n",
      "1      29.00000\n",
      "2      29.15342\n",
      "3      23.00000\n",
      "4      35.00000\n",
      "         ...   \n",
      "763    48.00000\n",
      "764    27.00000\n",
      "765    23.00000\n",
      "766    29.15342\n",
      "767    31.00000\n",
      "Name: Skin_Fold, Length: 768, dtype: float64 0      72.0\n",
      "1      66.0\n",
      "2      64.0\n",
      "3      66.0\n",
      "4      40.0\n",
      "       ... \n",
      "763    76.0\n",
      "764    70.0\n",
      "765    72.0\n",
      "766    60.0\n",
      "767    70.0\n",
      "Name: Diastolic_BP, Length: 768, dtype: float64 0      148.0\n",
      "1       85.0\n",
      "2      183.0\n",
      "3       89.0\n",
      "4      137.0\n",
      "       ...  \n",
      "763    101.0\n",
      "764    122.0\n",
      "765    121.0\n",
      "766    126.0\n",
      "767     93.0\n",
      "Name: Glucose, Length: 768, dtype: float64 0       6\n",
      "1       1\n",
      "2       8\n",
      "3       1\n",
      "4       0\n",
      "       ..\n",
      "763    10\n",
      "764     2\n",
      "765     5\n",
      "766     1\n",
      "767     1\n",
      "Name: Pregnant, Length: 768, dtype: int64\n"
     ]
    }
   ],
   "source": [
    "#  Mean, Median, and Mode Imputation\n",
    "Serum_Insulin = df['Serum_Insulin'].fillna(df['Serum_Insulin'].mean())\n",
    "Diabetes_Pedigree = df['Diabetes_Pedigree'].fillna(df['Diabetes_Pedigree'].mean())\n",
    "BMI = df['BMI'].fillna(df['BMI'].mean())\n",
    "Skin_Fold = df['Skin_Fold'].fillna(df['Skin_Fold'].mean())\n",
    "Diastolic_BP = df['Diastolic_BP'].fillna(df['Diastolic_BP'].mean())\n",
    "Glucose = df['Glucose'].fillna(df['Glucose'].mean())\n",
    "Pregnant = df['Pregnant'].fillna(df['Pregnant'].mean())\n",
    "\n",
    "print(Serum_Insulin,Diabetes_Pedigree,BMI,Skin_Fold,Diastolic_BP,Glucose,Pregnant)"
   ]
  },
  {
   "cell_type": "code",
   "execution_count": null,
   "id": "fd4a0a8d-5b48-4877-b1a7-2dd2b5cf1282",
   "metadata": {},
   "outputs": [],
   "source": [
    "#  ------------------------------------------- OUTLIERS DETECTION -------------------------------------------------"
   ]
  },
  {
   "cell_type": "code",
   "execution_count": 61,
   "id": "5be3406a-51ff-44c7-980b-b9b4089efeb6",
   "metadata": {},
   "outputs": [
    {
     "name": "stdout",
     "output_type": "stream",
     "text": [
      "<class 'pandas.core.frame.DataFrame'>\n",
      "RangeIndex: 768 entries, 0 to 767\n",
      "Data columns (total 9 columns):\n",
      " #   Column             Non-Null Count  Dtype  \n",
      "---  ------             --------------  -----  \n",
      " 0   Pregnant           768 non-null    int64  \n",
      " 1   Glucose            763 non-null    float64\n",
      " 2   Diastolic_BP       733 non-null    float64\n",
      " 3   Skin_Fold          541 non-null    float64\n",
      " 4   Serum_Insulin      394 non-null    float64\n",
      " 5   BMI                757 non-null    float64\n",
      " 6   Diabetes_Pedigree  768 non-null    float64\n",
      " 7   Age                768 non-null    int64  \n",
      " 8   Class              768 non-null    int64  \n",
      "dtypes: float64(6), int64(3)\n",
      "memory usage: 54.1 KB\n"
     ]
    }
   ],
   "source": [
    "df.info()\n"
   ]
  },
  {
   "cell_type": "code",
   "execution_count": 63,
   "id": "8afd9329-164d-4640-b698-192346fedb32",
   "metadata": {},
   "outputs": [
    {
     "data": {
      "text/plain": [
       "Pregnant               0\n",
       "Glucose                5\n",
       "Diastolic_BP          35\n",
       "Skin_Fold            227\n",
       "Serum_Insulin        374\n",
       "BMI                   11\n",
       "Diabetes_Pedigree      0\n",
       "Age                    0\n",
       "Class                  0\n",
       "dtype: int64"
      ]
     },
     "execution_count": 63,
     "metadata": {},
     "output_type": "execute_result"
    }
   ],
   "source": [
    "df.isnull().sum()\n"
   ]
  },
  {
   "cell_type": "code",
   "execution_count": 65,
   "id": "6dcd06de-ce5d-4947-b41c-55a345800096",
   "metadata": {},
   "outputs": [
    {
     "data": {
      "text/html": [
       "<div>\n",
       "<style scoped>\n",
       "    .dataframe tbody tr th:only-of-type {\n",
       "        vertical-align: middle;\n",
       "    }\n",
       "\n",
       "    .dataframe tbody tr th {\n",
       "        vertical-align: top;\n",
       "    }\n",
       "\n",
       "    .dataframe thead th {\n",
       "        text-align: right;\n",
       "    }\n",
       "</style>\n",
       "<table border=\"1\" class=\"dataframe\">\n",
       "  <thead>\n",
       "    <tr style=\"text-align: right;\">\n",
       "      <th></th>\n",
       "      <th>Pregnant</th>\n",
       "      <th>Glucose</th>\n",
       "      <th>Diastolic_BP</th>\n",
       "      <th>Skin_Fold</th>\n",
       "      <th>Serum_Insulin</th>\n",
       "      <th>BMI</th>\n",
       "      <th>Diabetes_Pedigree</th>\n",
       "      <th>Age</th>\n",
       "      <th>Class</th>\n",
       "    </tr>\n",
       "  </thead>\n",
       "  <tbody>\n",
       "    <tr>\n",
       "      <th>count</th>\n",
       "      <td>768.000000</td>\n",
       "      <td>763.000000</td>\n",
       "      <td>733.000000</td>\n",
       "      <td>541.000000</td>\n",
       "      <td>394.000000</td>\n",
       "      <td>757.000000</td>\n",
       "      <td>768.000000</td>\n",
       "      <td>768.000000</td>\n",
       "      <td>768.000000</td>\n",
       "    </tr>\n",
       "    <tr>\n",
       "      <th>mean</th>\n",
       "      <td>3.845052</td>\n",
       "      <td>121.686763</td>\n",
       "      <td>72.405184</td>\n",
       "      <td>29.153420</td>\n",
       "      <td>155.548223</td>\n",
       "      <td>32.457464</td>\n",
       "      <td>0.471876</td>\n",
       "      <td>33.240885</td>\n",
       "      <td>0.348958</td>\n",
       "    </tr>\n",
       "    <tr>\n",
       "      <th>std</th>\n",
       "      <td>3.369578</td>\n",
       "      <td>30.535641</td>\n",
       "      <td>12.382158</td>\n",
       "      <td>10.476982</td>\n",
       "      <td>118.775855</td>\n",
       "      <td>6.924988</td>\n",
       "      <td>0.331329</td>\n",
       "      <td>11.760232</td>\n",
       "      <td>0.476951</td>\n",
       "    </tr>\n",
       "    <tr>\n",
       "      <th>min</th>\n",
       "      <td>0.000000</td>\n",
       "      <td>44.000000</td>\n",
       "      <td>24.000000</td>\n",
       "      <td>7.000000</td>\n",
       "      <td>14.000000</td>\n",
       "      <td>18.200000</td>\n",
       "      <td>0.078000</td>\n",
       "      <td>21.000000</td>\n",
       "      <td>0.000000</td>\n",
       "    </tr>\n",
       "    <tr>\n",
       "      <th>25%</th>\n",
       "      <td>1.000000</td>\n",
       "      <td>99.000000</td>\n",
       "      <td>64.000000</td>\n",
       "      <td>22.000000</td>\n",
       "      <td>76.250000</td>\n",
       "      <td>27.500000</td>\n",
       "      <td>0.243750</td>\n",
       "      <td>24.000000</td>\n",
       "      <td>0.000000</td>\n",
       "    </tr>\n",
       "    <tr>\n",
       "      <th>50%</th>\n",
       "      <td>3.000000</td>\n",
       "      <td>117.000000</td>\n",
       "      <td>72.000000</td>\n",
       "      <td>29.000000</td>\n",
       "      <td>125.000000</td>\n",
       "      <td>32.300000</td>\n",
       "      <td>0.372500</td>\n",
       "      <td>29.000000</td>\n",
       "      <td>0.000000</td>\n",
       "    </tr>\n",
       "    <tr>\n",
       "      <th>75%</th>\n",
       "      <td>6.000000</td>\n",
       "      <td>141.000000</td>\n",
       "      <td>80.000000</td>\n",
       "      <td>36.000000</td>\n",
       "      <td>190.000000</td>\n",
       "      <td>36.600000</td>\n",
       "      <td>0.626250</td>\n",
       "      <td>41.000000</td>\n",
       "      <td>1.000000</td>\n",
       "    </tr>\n",
       "    <tr>\n",
       "      <th>max</th>\n",
       "      <td>17.000000</td>\n",
       "      <td>199.000000</td>\n",
       "      <td>122.000000</td>\n",
       "      <td>99.000000</td>\n",
       "      <td>846.000000</td>\n",
       "      <td>67.100000</td>\n",
       "      <td>2.420000</td>\n",
       "      <td>81.000000</td>\n",
       "      <td>1.000000</td>\n",
       "    </tr>\n",
       "  </tbody>\n",
       "</table>\n",
       "</div>"
      ],
      "text/plain": [
       "         Pregnant     Glucose  Diastolic_BP   Skin_Fold  Serum_Insulin  \\\n",
       "count  768.000000  763.000000    733.000000  541.000000     394.000000   \n",
       "mean     3.845052  121.686763     72.405184   29.153420     155.548223   \n",
       "std      3.369578   30.535641     12.382158   10.476982     118.775855   \n",
       "min      0.000000   44.000000     24.000000    7.000000      14.000000   \n",
       "25%      1.000000   99.000000     64.000000   22.000000      76.250000   \n",
       "50%      3.000000  117.000000     72.000000   29.000000     125.000000   \n",
       "75%      6.000000  141.000000     80.000000   36.000000     190.000000   \n",
       "max     17.000000  199.000000    122.000000   99.000000     846.000000   \n",
       "\n",
       "              BMI  Diabetes_Pedigree         Age       Class  \n",
       "count  757.000000         768.000000  768.000000  768.000000  \n",
       "mean    32.457464           0.471876   33.240885    0.348958  \n",
       "std      6.924988           0.331329   11.760232    0.476951  \n",
       "min     18.200000           0.078000   21.000000    0.000000  \n",
       "25%     27.500000           0.243750   24.000000    0.000000  \n",
       "50%     32.300000           0.372500   29.000000    0.000000  \n",
       "75%     36.600000           0.626250   41.000000    1.000000  \n",
       "max     67.100000           2.420000   81.000000    1.000000  "
      ]
     },
     "execution_count": 65,
     "metadata": {},
     "output_type": "execute_result"
    }
   ],
   "source": [
    "df.describe()\n"
   ]
  },
  {
   "cell_type": "code",
   "execution_count": 69,
   "id": "6905ff5c-a2f5-483c-a1ff-409a5bdf87fc",
   "metadata": {},
   "outputs": [
    {
     "data": {
      "image/png": "[encoded data removed]",
      "text/plain": [
       "<Figure size 665x1615 with 9 Axes>"
      ]
     },
     "metadata": {},
     "output_type": "display_data"
    }
   ],
   "source": [
    "\n",
    "fig, axs = plt.subplots(9,1,dpi=95, figsize=(7,17))\n",
    "i = 0\n",
    "for col in df.columns:\n",
    "    axs[i].boxplot(df[col], vert=False)\n",
    "    axs[i].set_ylabel(col)\n",
    "    i+=1\n",
    "plt.show()"
   ]
  },
  {
   "cell_type": "code",
   "execution_count": 87,
   "id": "73786736-98a5-489a-84d9-abd59a9ecf4c",
   "metadata": {},
   "outputs": [],
   "source": [
    "q1, q3 = np.percentile(df['Pregnant'], [25, 75])\n",
    "# Calculate the interquartile range\n",
    "iqr = q3 - q1\n",
    "# Calculate the lower and upper bounds\n",
    "lower_bound = q1 - (1.5 * iqr)\n",
    "upper_bound = q3 + (1.5 * iqr)\n",
    "# Drop the outliers\n",
    "clean_data = df[(df['Pregnant'] >= lower_bound) \n",
    "                & (df['Pregnant'] <= upper_bound)]\n",
    " \n",
    " \n",
    "# Identify the quartiles\n",
    "q1, q3 = np.percentile(clean_data['Glucose'], [25, 75])\n",
    "# Calculate the interquartile range\n",
    "iqr = q3 - q1\n",
    "# Calculate the lower and upper bounds\n",
    "lower_bound = q1 - (1.5 * iqr)\n",
    "upper_bound = q3 + (1.5 * iqr)\n",
    "# Drop the outliers\n",
    "clean_data = clean_data[(clean_data['Glucose'] >= lower_bound) \n",
    "                        & (clean_data['Glucose'] <= upper_bound)]\n",
    " \n",
    " \n",
    "\n",
    "\n",
    "\n"
   ]
  },
  {
   "cell_type": "code",
   "execution_count": 89,
   "id": "f8c513cf-a418-4754-8173-9021aa3576f7",
   "metadata": {},
   "outputs": [
    {
     "data": {
      "image/png": "[encoded data removed]",
      "text/plain": [
       "<Figure size 832x624 with 2 Axes>"
      ]
     },
     "metadata": {},
     "output_type": "display_data"
    }
   ],
   "source": [
    "#correlation\n",
    "corr = df.corr()\n",
    "\n",
    "plt.figure(dpi=130)\n",
    "sns.heatmap(df.corr(), annot=True, fmt= '.2f')\n",
    "plt.show()\n"
   ]
  },
  {
   "cell_type": "code",
   "execution_count": 95,
   "id": "0e2c6597-29f2-4edf-b9d2-138bbfac05ef",
   "metadata": {},
   "outputs": [
    {
     "data": {
      "text/plain": [
       "Class                1.000000\n",
       "Glucose              0.494650\n",
       "BMI                  0.313680\n",
       "Serum_Insulin        0.303454\n",
       "Skin_Fold            0.259491\n",
       "Age                  0.238356\n",
       "Pregnant             0.221898\n",
       "Diabetes_Pedigree    0.173844\n",
       "Diastolic_BP         0.170589\n",
       "Name: Class, dtype: float64"
      ]
     },
     "execution_count": 95,
     "metadata": {},
     "output_type": "execute_result"
    }
   ],
   "source": [
    "\n",
    "\n",
    "corr['Class'].sort_values(ascending = False)"
   ]
  },
  {
   "cell_type": "code",
   "execution_count": 101,
   "id": "75999229-95b7-4d0e-a32d-90f9853837aa",
   "metadata": {},
   "outputs": [
    {
     "data": {
      "image/png": "[encoded data removed]",
      "text/plain": [
       "<Figure size 640x480 with 1 Axes>"
      ]
     },
     "metadata": {},
     "output_type": "display_data"
    }
   ],
   "source": [
    "plt.pie(df.Class.value_counts(), \n",
    "\t\tlabels= ['Diabetes_Pedigree', 'Not Diabetes_Pedigree'], \n",
    "\t\tautopct='%.f', shadow=True)\n",
    "plt.title('Outcome Proportionality')\n",
    "plt.show()\n"
   ]
  },
  {
   "cell_type": "code",
   "execution_count": 105,
   "id": "eb78bcf1-9cb8-41cb-985c-4e906bdf2011",
   "metadata": {},
   "outputs": [],
   "source": [
    "# separate array into input and output components\n",
    "X = df.drop(columns =['Class'])\n",
    "Y = df.Class\n"
   ]
  },
  {
   "cell_type": "code",
   "execution_count": 107,
   "id": "1ad471ae-de3f-47a9-9bc5-eddc925beb2e",
   "metadata": {},
   "outputs": [
    {
     "data": {
      "text/plain": [
       "array([[0.35294118, 0.67096774, 0.48979592, 0.30434783,        nan,\n",
       "        0.31492843, 0.23441503, 0.48333333],\n",
       "       [0.05882353, 0.26451613, 0.42857143, 0.23913043,        nan,\n",
       "        0.17177914, 0.11656704, 0.16666667],\n",
       "       [0.47058824, 0.89677419, 0.40816327,        nan,        nan,\n",
       "        0.10429448, 0.25362938, 0.18333333],\n",
       "       [0.05882353, 0.29032258, 0.42857143, 0.17391304, 0.09615385,\n",
       "        0.20245399, 0.03800171, 0.        ],\n",
       "       [0.        , 0.6       , 0.16326531, 0.30434783, 0.18509615,\n",
       "        0.50920245, 0.94363792, 0.2       ]])"
      ]
     },
     "execution_count": 107,
     "metadata": {},
     "output_type": "execute_result"
    }
   ],
   "source": [
    "# initialising the MinMaxScaler\n",
    "scaler = MinMaxScaler(feature_range=(0, 1))\n",
    "\n",
    "# learning the statistical parameters for each of the data and transforming\n",
    "rescaledX = scaler.fit_transform(X)\n",
    "rescaledX[:5]\n"
   ]
  },
  {
   "cell_type": "code",
   "execution_count": 111,
   "id": "3649624d-bc9b-4182-8e84-634d4d035d8d",
   "metadata": {},
   "outputs": [
    {
     "data": {
      "text/plain": [
       "array([[ 0.63994726,  0.86228736, -0.03274557,  0.55855696,         nan,\n",
       "         0.16509656,  0.46849198,  1.4259954 ],\n",
       "       [-0.84488505, -1.20222881, -0.51764464, -0.01465704,         nan,\n",
       "        -0.84640379, -0.36506078, -0.19067191],\n",
       "       [ 1.23388019,  2.0092408 , -0.67927766,         nan,         nan,\n",
       "        -1.32325395,  0.60439732, -0.10558415],\n",
       "       [-0.84488505, -1.07114842, -0.51764464, -0.58787104, -0.51884686,\n",
       "        -0.62965372, -0.92076261, -1.04154944],\n",
       "       [-1.14185152,  0.50181629, -2.61887393,  0.55855696,  0.10496753,\n",
       "         1.53784703,  5.4849091 , -0.0204964 ]])"
      ]
     },
     "execution_count": 111,
     "metadata": {},
     "output_type": "execute_result"
    }
   ],
   "source": [
    "from sklearn.preprocessing import StandardScaler\n",
    " \n",
    "scaler = StandardScaler().fit(X)\n",
    "rescaledX = scaler.transform(X)\n",
    "rescaledX[:5]"
   ]
  },
  {
   "cell_type": "code",
   "execution_count": 113,
   "id": "df265da1-ebaa-4b0b-aecb-258856b688ac",
   "metadata": {},
   "outputs": [
    {
     "name": "stdout",
     "output_type": "stream",
     "text": [
      "Categorical columns : []\n",
      "Numerical columns : ['Pregnant', 'Glucose', 'Diastolic_BP', 'Skin_Fold', 'Serum_Insulin', 'BMI', 'Diabetes_Pedigree', 'Age', 'Class']\n"
     ]
    }
   ],
   "source": [
    "# Categorical columns\n",
    "cat_col = [col for col in df.columns if df[col].dtype == 'object']\n",
    "print('Categorical columns :',cat_col)\n",
    "# Numerical columns\n",
    "num_col = [col for col in df.columns if df[col].dtype != 'object']\n",
    "print('Numerical columns :',num_col)"
   ]
  },
  {
   "cell_type": "code",
   "execution_count": 115,
   "id": "33ed3c26-b7af-4459-b0a9-fc852f5df3a8",
   "metadata": {},
   "outputs": [
    {
     "data": {
      "text/plain": [
       "Series([], dtype: float64)"
      ]
     },
     "execution_count": 115,
     "metadata": {},
     "output_type": "execute_result"
    }
   ],
   "source": [
    "df[cat_col].nunique()"
   ]
  },
  {
   "cell_type": "code",
   "execution_count": 117,
   "id": "8698fc84-b66b-4cea-82a5-123de345368d",
   "metadata": {},
   "outputs": [
    {
     "data": {
      "text/plain": [
       "array([148.,  85., 183.,  89., 137., 116.,  78., 115., 197., 125., 110.,\n",
       "       168., 139., 189., 166., 100., 118., 107., 103., 126.,  99., 196.,\n",
       "       119., 143., 147.,  97., 145., 117., 109., 158.,  88.,  92., 122.,\n",
       "       138., 102.,  90., 111., 180., 133., 106., 171., 159., 146.,  71.,\n",
       "       105., 101., 176., 150.,  73., 187.])"
      ]
     },
     "execution_count": 117,
     "metadata": {},
     "output_type": "execute_result"
    }
   ],
   "source": [
    "df['Glucose'].unique()[:50]"
   ]
  },
  {
   "cell_type": "code",
   "execution_count": 121,
   "id": "7136a0e2-8063-4c3c-a487-6b23ecad0d82",
   "metadata": {},
   "outputs": [
    {
     "data": {
      "text/plain": [
       "(768, 7)"
      ]
     },
     "execution_count": 121,
     "metadata": {},
     "output_type": "execute_result"
    }
   ],
   "source": [
    "df1 = df.drop(columns=['Pregnant','Glucose'])\n",
    "df1.shape"
   ]
  },
  {
   "cell_type": "code",
   "execution_count": 123,
   "id": "1568df26-eaf7-4075-a666-8db5a5a53c1c",
   "metadata": {},
   "outputs": [
    {
     "data": {
      "text/plain": [
       "Diastolic_BP          4.56\n",
       "Skin_Fold            29.56\n",
       "Serum_Insulin        48.70\n",
       "BMI                   1.43\n",
       "Diabetes_Pedigree     0.00\n",
       "Age                   0.00\n",
       "Class                 0.00\n",
       "dtype: float64"
      ]
     },
     "execution_count": 123,
     "metadata": {},
     "output_type": "execute_result"
    }
   ],
   "source": [
    "round((df1.isnull().sum()/df1.shape[0])*100,2)"
   ]
  },
  {
   "cell_type": "code",
   "execution_count": 135,
   "id": "333b94b7-91e4-4580-bd55-3b5edea9de2c",
   "metadata": {},
   "outputs": [
    {
     "data": {
      "text/plain": [
       "(768, 6)"
      ]
     },
     "execution_count": 135,
     "metadata": {},
     "output_type": "execute_result"
    }
   ],
   "source": [
    "df2 = df1.drop(columns='Diabetes_Pedigree')\n",
    "df2.dropna(subset=['Class'], axis=0, inplace=True)\n",
    "df2.shape"
   ]
  },
  {
   "cell_type": "code",
   "execution_count": 137,
   "id": "6ec18424-3d03-46db-b7ef-10e1b405ac5a",
   "metadata": {},
   "outputs": [
    {
     "data": {
      "text/plain": [
       "Diastolic_BP     0\n",
       "Skin_Fold        0\n",
       "Serum_Insulin    0\n",
       "BMI              0\n",
       "Age              0\n",
       "Class            0\n",
       "dtype: int64"
      ]
     },
     "execution_count": 137,
     "metadata": {},
     "output_type": "execute_result"
    }
   ],
   "source": [
    "# Mean imputation\n",
    "df3 = df2.fillna(df2.Age.mean())\n",
    "# Let's check the null values again\n",
    "df3.isnull().sum()"
   ]
  },
  {
   "cell_type": "code",
   "execution_count": 140,
   "id": "fb6728be-622c-40c5-884c-41834328c01f",
   "metadata": {},
   "outputs": [
    {
     "data": {
      "image/png": "[encoded data removed]",
      "text/plain": [
       "<Figure size 640x480 with 1 Axes>"
      ]
     },
     "metadata": {},
     "output_type": "display_data"
    }
   ],
   "source": [
    "\n",
    "plt.boxplot(df3['Age'], vert=False)\n",
    "plt.ylabel('Variable')\n",
    "plt.xlabel('Age')\n",
    "plt.title('Box Plot')\n",
    "plt.show()"
   ]
  },
  {
   "cell_type": "code",
   "execution_count": 142,
   "id": "64aab7ba-6617-4ee7-95a1-7d4e7882e5af",
   "metadata": {},
   "outputs": [
    {
     "name": "stdout",
     "output_type": "stream",
     "text": [
      "Lower Bound : 41.42277634547803\n",
      "Upper Bound : 99.81792935656189\n"
     ]
    }
   ],
   "source": [
    "# calculate summary statistics\n",
    "mean = df3['Diastolic_BP'].mean()\n",
    "std  = df3['Diastolic_BP'].std()\n",
    "\n",
    "# Calculate the lower and upper bounds\n",
    "lower_bound = mean - std*2\n",
    "upper_bound = mean + std*2\n",
    "\n",
    "print('Lower Bound :',lower_bound)\n",
    "print('Upper Bound :',upper_bound)\n",
    "\n",
    "# Drop the outliers\n",
    "df4 = df3[(df3['Diastolic_BP'] >= lower_bound) \n",
    "                & (df3['Diastolic_BP'] <= upper_bound)]"
   ]
  },
  {
   "cell_type": "code",
   "execution_count": 144,
   "id": "6ca8df2d-4c4b-4800-82b0-bdd3fb471886",
   "metadata": {},
   "outputs": [],
   "source": [
    "X = df3[['Skin_Fold','Serum_Insulin', 'BMI','Age','Class']]\n",
    "Y = df3['Diastolic_BP']"
   ]
  },
  {
   "cell_type": "code",
   "execution_count": 148,
   "id": "88ac115e-e1d6-4b49-bc4b-185b7c79611e",
   "metadata": {},
   "outputs": [
    {
     "data": {
      "text/html": [
       "<div>\n",
       "<style scoped>\n",
       "    .dataframe tbody tr th:only-of-type {\n",
       "        vertical-align: middle;\n",
       "    }\n",
       "\n",
       "    .dataframe tbody tr th {\n",
       "        vertical-align: top;\n",
       "    }\n",
       "\n",
       "    .dataframe thead th {\n",
       "        text-align: right;\n",
       "    }\n",
       "</style>\n",
       "<table border=\"1\" class=\"dataframe\">\n",
       "  <thead>\n",
       "    <tr style=\"text-align: right;\">\n",
       "      <th></th>\n",
       "      <th>Skin_Fold</th>\n",
       "      <th>Serum_Insulin</th>\n",
       "      <th>BMI</th>\n",
       "      <th>Age</th>\n",
       "      <th>Class</th>\n",
       "    </tr>\n",
       "  </thead>\n",
       "  <tbody>\n",
       "    <tr>\n",
       "      <th>0</th>\n",
       "      <td>0.304348</td>\n",
       "      <td>0.023126</td>\n",
       "      <td>0.314928</td>\n",
       "      <td>0.483333</td>\n",
       "      <td>1.0</td>\n",
       "    </tr>\n",
       "    <tr>\n",
       "      <th>1</th>\n",
       "      <td>0.239130</td>\n",
       "      <td>0.023126</td>\n",
       "      <td>0.171779</td>\n",
       "      <td>0.166667</td>\n",
       "      <td>0.0</td>\n",
       "    </tr>\n",
       "    <tr>\n",
       "      <th>2</th>\n",
       "      <td>0.285227</td>\n",
       "      <td>0.023126</td>\n",
       "      <td>0.104294</td>\n",
       "      <td>0.183333</td>\n",
       "      <td>1.0</td>\n",
       "    </tr>\n",
       "    <tr>\n",
       "      <th>3</th>\n",
       "      <td>0.173913</td>\n",
       "      <td>0.096154</td>\n",
       "      <td>0.202454</td>\n",
       "      <td>0.000000</td>\n",
       "      <td>0.0</td>\n",
       "    </tr>\n",
       "    <tr>\n",
       "      <th>4</th>\n",
       "      <td>0.304348</td>\n",
       "      <td>0.185096</td>\n",
       "      <td>0.509202</td>\n",
       "      <td>0.200000</td>\n",
       "      <td>1.0</td>\n",
       "    </tr>\n",
       "  </tbody>\n",
       "</table>\n",
       "</div>"
      ],
      "text/plain": [
       "   Skin_Fold  Serum_Insulin       BMI       Age  Class\n",
       "0   0.304348       0.023126  0.314928  0.483333    1.0\n",
       "1   0.239130       0.023126  0.171779  0.166667    0.0\n",
       "2   0.285227       0.023126  0.104294  0.183333    1.0\n",
       "3   0.173913       0.096154  0.202454  0.000000    0.0\n",
       "4   0.304348       0.185096  0.509202  0.200000    1.0"
      ]
     },
     "execution_count": 148,
     "metadata": {},
     "output_type": "execute_result"
    }
   ],
   "source": [
    "\n",
    "# initialising the MinMaxScaler\n",
    "scaler = MinMaxScaler(feature_range=(0, 1))\n",
    "\n",
    "# Numerical columns\n",
    "num_col_ = [col for col in X.columns if X[col].dtype != 'object']\n",
    "x1 = X\n",
    "# learning the statistical parameters for each of the data and transforming\n",
    "# x1[num_col_] = scaler.fit_transform(x1[num_col_])\n",
    "x1.head()"
   ]
  },
  {
   "cell_type": "code",
   "execution_count": 166,
   "id": "9ddc8846-9c49-415e-887a-c2d489a7e652",
   "metadata": {},
   "outputs": [
    {
     "name": "stdout",
     "output_type": "stream",
     "text": [
      "Sample DataFrame:\n",
      "     Pregnant  Glucose  Diastolic_BP  Skin_Fold  Serum_Insulin   BMI  \\\n",
      "0           6    148.0          72.0       35.0            NaN  33.6   \n",
      "1           1     85.0          66.0       29.0            NaN  26.6   \n",
      "2           8    183.0          64.0        NaN            NaN  23.3   \n",
      "3           1     89.0          66.0       23.0           94.0  28.1   \n",
      "4           0    137.0          40.0       35.0          168.0  43.1   \n",
      "..        ...      ...           ...        ...            ...   ...   \n",
      "763        10    101.0          76.0       48.0          180.0  32.9   \n",
      "764         2    122.0          70.0       27.0            NaN  36.8   \n",
      "765         5    121.0          72.0       23.0          112.0  26.2   \n",
      "766         1    126.0          60.0        NaN            NaN  30.1   \n",
      "767         1     93.0          70.0       31.0            NaN  30.4   \n",
      "\n",
      "     Diabetes_Pedigree  Age  Class  \n",
      "0                0.627   50      1  \n",
      "1                0.351   31      0  \n",
      "2                0.672   32      1  \n",
      "3                0.167   21      0  \n",
      "4                2.288   33      1  \n",
      "..                 ...  ...    ...  \n",
      "763              0.171   63      0  \n",
      "764              0.340   27      0  \n",
      "765              0.245   30      0  \n",
      "766              0.349   47      1  \n",
      "767              0.315   23      0  \n",
      "\n",
      "[768 rows x 9 columns]\n"
     ]
    }
   ],
   "source": [
    "df = pd.DataFrame(df)\n",
    "print(\"Sample DataFrame:\")\n",
    "print(df)"
   ]
  },
  {
   "cell_type": "code",
   "execution_count": null,
   "id": "73042b6e-3310-47b2-8987-c66d01460c12",
   "metadata": {},
   "outputs": [],
   "source": [
    "# ----------------------------------------  Normalize - feature-scaling -----------------------------------------------"
   ]
  },
  {
   "cell_type": "code",
   "execution_count": 172,
   "id": "c325adf0-c53d-4515-8fb7-5895e0b37408",
   "metadata": {},
   "outputs": [
    {
     "data": {
      "text/plain": [
       "846.0"
      ]
     },
     "execution_count": 172,
     "metadata": {},
     "output_type": "execute_result"
    }
   ],
   "source": [
    "max_vals = np.max(np.abs(df))\n",
    "max_vals"
   ]
  },
  {
   "cell_type": "code",
   "execution_count": 174,
   "id": "e0f3bbca-d778-488f-bb52-e6ca8037f363",
   "metadata": {},
   "outputs": [
    {
     "name": "stdout",
     "output_type": "stream",
     "text": [
      "     Pregnant   Glucose  Diastolic_BP  Skin_Fold  Serum_Insulin       BMI  \\\n",
      "0   -0.992908 -0.825059     -0.914894  -0.958629            NaN -0.960284   \n",
      "1   -0.998818 -0.899527     -0.921986  -0.965721            NaN -0.968558   \n",
      "2   -0.990544 -0.783688     -0.924350        NaN            NaN -0.972459   \n",
      "3   -0.998818 -0.894799     -0.921986  -0.972813      -0.888889 -0.966785   \n",
      "4   -1.000000 -0.838061     -0.952719  -0.958629      -0.801418 -0.949054   \n",
      "..        ...       ...           ...        ...            ...       ...   \n",
      "763 -0.988180 -0.880615     -0.910165  -0.943262      -0.787234 -0.961111   \n",
      "764 -0.997636 -0.855792     -0.917258  -0.968085            NaN -0.956501   \n",
      "765 -0.994090 -0.856974     -0.914894  -0.972813      -0.867612 -0.969031   \n",
      "766 -0.998818 -0.851064     -0.929078        NaN            NaN -0.964421   \n",
      "767 -0.998818 -0.890071     -0.917258  -0.963357            NaN -0.964066   \n",
      "\n",
      "     Diabetes_Pedigree       Age     Class  \n",
      "0            -0.999259 -0.940898 -0.998818  \n",
      "1            -0.999585 -0.963357 -1.000000  \n",
      "2            -0.999206 -0.962175 -0.998818  \n",
      "3            -0.999803 -0.975177 -1.000000  \n",
      "4            -0.997296 -0.960993 -0.998818  \n",
      "..                 ...       ...       ...  \n",
      "763          -0.999798 -0.925532 -1.000000  \n",
      "764          -0.999598 -0.968085 -1.000000  \n",
      "765          -0.999710 -0.964539 -1.000000  \n",
      "766          -0.999587 -0.944444 -0.998818  \n",
      "767          -0.999628 -0.972813 -1.000000  \n",
      "\n",
      "[768 rows x 9 columns]\n"
     ]
    }
   ],
   "source": [
    "print((df - max_vals) / max_vals)"
   ]
  },
  {
   "cell_type": "code",
   "execution_count": 176,
   "id": "ec63376e-e63c-4587-902c-f963eae86d8d",
   "metadata": {},
   "outputs": [
    {
     "data": {
      "text/html": [
       "<div>\n",
       "<style scoped>\n",
       "    .dataframe tbody tr th:only-of-type {\n",
       "        vertical-align: middle;\n",
       "    }\n",
       "\n",
       "    .dataframe tbody tr th {\n",
       "        vertical-align: top;\n",
       "    }\n",
       "\n",
       "    .dataframe thead th {\n",
       "        text-align: right;\n",
       "    }\n",
       "</style>\n",
       "<table border=\"1\" class=\"dataframe\">\n",
       "  <thead>\n",
       "    <tr style=\"text-align: right;\">\n",
       "      <th></th>\n",
       "      <th>Pregnant</th>\n",
       "      <th>Glucose</th>\n",
       "      <th>Diastolic_BP</th>\n",
       "      <th>Skin_Fold</th>\n",
       "      <th>Serum_Insulin</th>\n",
       "      <th>BMI</th>\n",
       "      <th>Diabetes_Pedigree</th>\n",
       "      <th>Age</th>\n",
       "      <th>Class</th>\n",
       "    </tr>\n",
       "  </thead>\n",
       "  <tbody>\n",
       "    <tr>\n",
       "      <th>0</th>\n",
       "      <td>0.352941</td>\n",
       "      <td>0.670968</td>\n",
       "      <td>0.489796</td>\n",
       "      <td>0.304348</td>\n",
       "      <td>NaN</td>\n",
       "      <td>0.314928</td>\n",
       "      <td>0.234415</td>\n",
       "      <td>0.483333</td>\n",
       "      <td>1.0</td>\n",
       "    </tr>\n",
       "    <tr>\n",
       "      <th>1</th>\n",
       "      <td>0.058824</td>\n",
       "      <td>0.264516</td>\n",
       "      <td>0.428571</td>\n",
       "      <td>0.239130</td>\n",
       "      <td>NaN</td>\n",
       "      <td>0.171779</td>\n",
       "      <td>0.116567</td>\n",
       "      <td>0.166667</td>\n",
       "      <td>0.0</td>\n",
       "    </tr>\n",
       "    <tr>\n",
       "      <th>2</th>\n",
       "      <td>0.470588</td>\n",
       "      <td>0.896774</td>\n",
       "      <td>0.408163</td>\n",
       "      <td>NaN</td>\n",
       "      <td>NaN</td>\n",
       "      <td>0.104294</td>\n",
       "      <td>0.253629</td>\n",
       "      <td>0.183333</td>\n",
       "      <td>1.0</td>\n",
       "    </tr>\n",
       "    <tr>\n",
       "      <th>3</th>\n",
       "      <td>0.058824</td>\n",
       "      <td>0.290323</td>\n",
       "      <td>0.428571</td>\n",
       "      <td>0.173913</td>\n",
       "      <td>0.096154</td>\n",
       "      <td>0.202454</td>\n",
       "      <td>0.038002</td>\n",
       "      <td>0.000000</td>\n",
       "      <td>0.0</td>\n",
       "    </tr>\n",
       "    <tr>\n",
       "      <th>4</th>\n",
       "      <td>0.000000</td>\n",
       "      <td>0.600000</td>\n",
       "      <td>0.163265</td>\n",
       "      <td>0.304348</td>\n",
       "      <td>0.185096</td>\n",
       "      <td>0.509202</td>\n",
       "      <td>0.943638</td>\n",
       "      <td>0.200000</td>\n",
       "      <td>1.0</td>\n",
       "    </tr>\n",
       "  </tbody>\n",
       "</table>\n",
       "</div>"
      ],
      "text/plain": [
       "   Pregnant   Glucose  Diastolic_BP  Skin_Fold  Serum_Insulin       BMI  \\\n",
       "0  0.352941  0.670968      0.489796   0.304348            NaN  0.314928   \n",
       "1  0.058824  0.264516      0.428571   0.239130            NaN  0.171779   \n",
       "2  0.470588  0.896774      0.408163        NaN            NaN  0.104294   \n",
       "3  0.058824  0.290323      0.428571   0.173913       0.096154  0.202454   \n",
       "4  0.000000  0.600000      0.163265   0.304348       0.185096  0.509202   \n",
       "\n",
       "   Diabetes_Pedigree       Age  Class  \n",
       "0           0.234415  0.483333    1.0  \n",
       "1           0.116567  0.166667    0.0  \n",
       "2           0.253629  0.183333    1.0  \n",
       "3           0.038002  0.000000    0.0  \n",
       "4           0.943638  0.200000    1.0  "
      ]
     },
     "execution_count": 176,
     "metadata": {},
     "output_type": "execute_result"
    }
   ],
   "source": [
    "\n",
    "scaler = MinMaxScaler()\n",
    "scaled_data = scaler.fit_transform(df)\n",
    "scaled_df = pd.DataFrame(scaled_data, \n",
    "                         columns=df.columns)\n",
    "scaled_df.head()"
   ]
  },
  {
   "cell_type": "code",
   "execution_count": 222,
   "id": "76771369-67fa-4632-aafb-cde0e019628b",
   "metadata": {},
   "outputs": [
    {
     "name": "stdout",
     "output_type": "stream",
     "text": [
      "     pregnancies  glucose  diastolic  triceps  insulin   bmi    dpf  age  \\\n",
      "0              6      148         72       35        0  33.6  0.627   50   \n",
      "1              1       85         66       29        0  26.6  0.351   31   \n",
      "2              8      183         64        0        0  23.3  0.672   32   \n",
      "3              1       89         66       23       94  28.1  0.167   21   \n",
      "4              0      137         40       35      168  43.1  2.288   33   \n",
      "..           ...      ...        ...      ...      ...   ...    ...  ...   \n",
      "763           10      101         76       48      180  32.9  0.171   63   \n",
      "764            2      122         70       27        0  36.8  0.340   27   \n",
      "765            5      121         72       23      112  26.2  0.245   30   \n",
      "766            1      126         60        0        0  30.1  0.349   47   \n",
      "767            1       93         70       31        0  30.4  0.315   23   \n",
      "\n",
      "     diabetes  \n",
      "0           1  \n",
      "1           0  \n",
      "2           1  \n",
      "3           0  \n",
      "4           1  \n",
      "..        ...  \n",
      "763         0  \n",
      "764         0  \n",
      "765         0  \n",
      "766         1  \n",
      "767         0  \n",
      "\n",
      "[768 rows x 9 columns]\n"
     ]
    }
   ],
   "source": [
    "dia = pd.read_csv('Diabetes.csv')\n",
    "data = pd.DataFrame(dia)\n",
    "print(data)"
   ]
  },
  {
   "cell_type": "code",
   "execution_count": 224,
   "id": "d3bbdf26-9d59-46cf-9370-c91988a101ff",
   "metadata": {},
   "outputs": [
    {
     "name": "stdout",
     "output_type": "stream",
     "text": [
      "   Pregnant   Glucose  Diastolic_BP  Skin_Fold  Serum_Insulin       BMI  \\\n",
      "0  0.033552  0.827612      0.402622   0.195719       0.000000  0.187890   \n",
      "1  0.008424  0.716040      0.555984   0.244296       0.000000  0.224079   \n",
      "2  0.040397  0.924085      0.323177   0.000000       0.000000  0.117657   \n",
      "3  0.006612  0.588467      0.436392   0.152076       0.621527  0.185797   \n",
      "4  0.000000  0.596381      0.174126   0.152360       0.731328  0.187620   \n",
      "\n",
      "   Diabetes_Pedigree       Age     Class  \n",
      "0           0.003506  0.279599  0.005592  \n",
      "1           0.002957  0.261144  0.000000  \n",
      "2           0.003393  0.161589  0.005050  \n",
      "3           0.001104  0.138852  0.000000  \n",
      "4           0.009960  0.143654  0.004353  \n"
     ]
    }
   ],
   "source": [
    "   \n",
    "from sklearn.preprocessing import Normalizer\n",
    " \n",
    "scaler = Normalizer()\n",
    "scaled_data = scaler.fit_transform(data)\n",
    "scaled_df = pd.DataFrame(scaled_data,\n",
    "                         columns=df.columns)\n",
    "print(scaled_df.head())"
   ]
  },
  {
   "cell_type": "code",
   "execution_count": 226,
   "id": "da7a083b-948b-44f8-a50a-1413a74e103c",
   "metadata": {},
   "outputs": [
    {
     "name": "stdout",
     "output_type": "stream",
     "text": [
      "   Pregnant   Glucose  Diastolic_BP  Skin_Fold  Serum_Insulin       BMI  \\\n",
      "0  0.639947  0.862287     -0.032746   0.558557            NaN  0.165097   \n",
      "1 -0.844885 -1.202229     -0.517645  -0.014657            NaN -0.846404   \n",
      "2  1.233880  2.009241     -0.679278        NaN            NaN -1.323254   \n",
      "3 -0.844885 -1.071148     -0.517645  -0.587871      -0.518847 -0.629654   \n",
      "4 -1.141852  0.501816     -2.618874   0.558557       0.104968  1.537847   \n",
      "\n",
      "   Diabetes_Pedigree       Age     Class  \n",
      "0           0.468492  1.425995  1.365896  \n",
      "1          -0.365061 -0.190672 -0.732120  \n",
      "2           0.604397 -0.105584  1.365896  \n",
      "3          -0.920763 -1.041549 -0.732120  \n",
      "4           5.484909 -0.020496  1.365896  \n"
     ]
    }
   ],
   "source": [
    "from sklearn.preprocessing import StandardScaler\n",
    "\n",
    "scaler = StandardScaler()\n",
    "scaled_data = scaler.fit_transform(df)\n",
    "scaled_df = pd.DataFrame(scaled_data,\n",
    "\t\t\t\t\t\tcolumns=df.columns)\n",
    "print(scaled_df.head())\n"
   ]
  },
  {
   "cell_type": "code",
   "execution_count": 212,
   "id": "6a62383c-9810-4afb-982e-69e861aff542",
   "metadata": {},
   "outputs": [
    {
     "data": {
      "text/plain": [
       "652"
      ]
     },
     "execution_count": 212,
     "metadata": {},
     "output_type": "execute_result"
    }
   ],
   "source": []
  },
  {
   "cell_type": "code",
   "execution_count": 216,
   "id": "357596ac-7bfd-4ded-8199-c839ba50d67d",
   "metadata": {},
   "outputs": [
    {
     "data": {
      "text/plain": [
       "Pregnant               0\n",
       "Glucose                5\n",
       "Diastolic_BP          35\n",
       "Skin_Fold            227\n",
       "Serum_Insulin        374\n",
       "BMI                   11\n",
       "Diabetes_Pedigree      0\n",
       "Age                    0\n",
       "Class                  0\n",
       "dtype: int64"
      ]
     },
     "execution_count": 216,
     "metadata": {},
     "output_type": "execute_result"
    }
   ],
   "source": []
  },
  {
   "cell_type": "code",
   "execution_count": 228,
   "id": "71d4c11e-06cf-4681-97ae-2f03a2e35cc7",
   "metadata": {},
   "outputs": [
    {
     "name": "stdout",
     "output_type": "stream",
     "text": [
      "   Pregnant   Glucose  Diastolic_BP  Skin_Fold  Serum_Insulin       BMI  \\\n",
      "0       0.6  0.738095         0.000   0.428571            NaN  0.142857   \n",
      "1      -0.4 -0.761905        -0.375   0.000000            NaN -0.626374   \n",
      "2       1.0  1.571429        -0.500        NaN            NaN -0.989011   \n",
      "3      -0.4 -0.666667        -0.375  -0.428571      -0.272527 -0.461538   \n",
      "4      -0.6  0.476190        -2.000   0.428571       0.378022  1.186813   \n",
      "\n",
      "   Diabetes_Pedigree       Age  Class  \n",
      "0           0.665359  1.235294    1.0  \n",
      "1          -0.056209  0.117647    0.0  \n",
      "2           0.783007  0.176471    1.0  \n",
      "3          -0.537255 -0.470588    0.0  \n",
      "4           5.007843  0.235294    1.0  \n"
     ]
    }
   ],
   "source": [
    "   \n",
    "from sklearn.preprocessing import RobustScaler\n",
    " \n",
    "scaler = RobustScaler()\n",
    "scaled_data = scaler.fit_transform(df)\n",
    "scaled_df = pd.DataFrame(scaled_data,\n",
    "                         columns=df.columns)\n",
    "print(scaled_df.head())"
   ]
  },
  {
   "cell_type": "code",
   "execution_count": null,
   "id": "bf971e3d-0abb-4739-a294-236e02117def",
   "metadata": {},
   "outputs": [],
   "source": [
    "# ------------------------------------ Split Data Into Training And Testing -------------------------------------------"
   ]
  },
  {
   "cell_type": "code",
   "execution_count": 232,
   "id": "091c15ae-8bf2-42f0-968d-7c71c6558b27",
   "metadata": {},
   "outputs": [
    {
     "name": "stdout",
     "output_type": "stream",
     "text": [
      "Requirement already satisfied: scikit-learn in c:\\users\\hp\\anaconda3\\lib\\site-packages (1.4.2)\n",
      "Requirement already satisfied: numpy>=1.19.5 in c:\\users\\hp\\anaconda3\\lib\\site-packages (from scikit-learn) (1.26.4)\n",
      "Requirement already satisfied: scipy>=1.6.0 in c:\\users\\hp\\anaconda3\\lib\\site-packages (from scikit-learn) (1.13.1)\n",
      "Requirement already satisfied: joblib>=1.2.0 in c:\\users\\hp\\anaconda3\\lib\\site-packages (from scikit-learn) (1.4.2)\n",
      "Requirement already satisfied: threadpoolctl>=2.0.0 in c:\\users\\hp\\anaconda3\\lib\\site-packages (from scikit-learn) (2.2.0)\n",
      "Note: you may need to restart the kernel to use updated packages.\n"
     ]
    }
   ],
   "source": [
    "pip install scikit-learn"
   ]
  },
  {
   "cell_type": "code",
   "execution_count": 233,
   "id": "12052f98-bb5f-44f9-a5e2-6ef6a672c78e",
   "metadata": {},
   "outputs": [],
   "source": [
    "from sklearn.model_selection import train_test_split\n"
   ]
  },
  {
   "cell_type": "code",
   "execution_count": 236,
   "id": "4e7b5859-c289-4fd1-8d22-d0e9df63b648",
   "metadata": {},
   "outputs": [],
   "source": [
    "\n",
    "# Example data: 10 samples with 3 features\n",
    "X = np.array([[1, 2, 3], [4, 5, 6], [7, 8, 9], [10, 11, 12], [13, 14, 15],\n",
    "              [16, 17, 18], [19, 20, 21], [22, 23, 24], [25, 26, 27], [28, 29, 30]])\n",
    "\n",
    "# Example target: 10 labels\n",
    "y = np.array([0, 1, 0, 1, 0, 1, 0, 1, 0, 1])\n"
   ]
  },
  {
   "cell_type": "code",
   "execution_count": 238,
   "id": "c7b9809d-6a25-4c26-a445-2bf05b05a3e6",
   "metadata": {},
   "outputs": [
    {
     "name": "stdout",
     "output_type": "stream",
     "text": [
      "X_train: [[16 17 18]\n",
      " [ 1  2  3]\n",
      " [22 23 24]\n",
      " [ 7  8  9]\n",
      " [28 29 30]\n",
      " [13 14 15]\n",
      " [10 11 12]\n",
      " [19 20 21]]\n",
      "X_test: [[25 26 27]\n",
      " [ 4  5  6]]\n",
      "y_train: [1 0 1 0 1 0 1 0]\n",
      "y_test: [0 1]\n"
     ]
    }
   ],
   "source": [
    "# Split the data into training (80%) and testing (20%)\n",
    "X_train, X_test, y_train, y_test = train_test_split(X, y, test_size=0.2, random_state=42)\n",
    "\n",
    "# View the resulting splits\n",
    "print(\"X_train:\", X_train)\n",
    "print(\"X_test:\", X_test)\n",
    "print(\"y_train:\", y_train)\n",
    "print(\"y_test:\", y_test)\n"
   ]
  },
  {
   "cell_type": "code",
   "execution_count": null,
   "id": "be9a55ba-87c9-4837-8715-a2e53964d5d1",
   "metadata": {},
   "outputs": [],
   "source": []
  }
 ],
 "metadata": {
  "kernelspec": {
   "display_name": "Python 3 (ipykernel)",
   "language": "python",
   "name": "python3"
  },
  "language_info": {
   "codemirror_mode": {
    "name": "ipython",
    "version": 3
   },
   "file_extension": ".py",
   "mimetype": "text/x-python",
   "name": "python",
   "nbconvert_exporter": "python",
   "pygments_lexer": "ipython3",
   "version": "3.12.4"
  }
 },
 "nbformat": 4,
 "nbformat_minor": 5
}
